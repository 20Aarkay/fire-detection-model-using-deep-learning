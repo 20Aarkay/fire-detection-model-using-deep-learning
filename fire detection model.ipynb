{
 "cells": [
  {
   "cell_type": "code",
   "execution_count": 1,
   "id": "f562c17f",
   "metadata": {},
   "outputs": [],
   "source": [
    "import os\n",
    "import numpy as np\n",
    "import tensorflow as tf\n",
    "from tensorflow.keras.preprocessing.image import ImageDataGenerator\n",
    "from sklearn.model_selection import train_test_split\n",
    "from tensorflow.keras.models import Sequential\n",
    "from tensorflow.keras.layers import Conv2D, MaxPooling2D, Flatten, Dense, Dropout\n",
    "from sklearn.metrics import accuracy_score\n",
    "from tensorflow.keras.optimizers import Adam, RMSprop\n",
    "from tensorflow.keras.callbacks import EarlyStopping"
   ]
  },
  {
   "cell_type": "code",
   "execution_count": 2,
   "id": "f4153518",
   "metadata": {},
   "outputs": [],
   "source": [
    "train_dir = 'train'\n",
    "test_dir = 'test'"
   ]
  },
  {
   "cell_type": "code",
   "execution_count": 3,
   "id": "9445d973",
   "metadata": {},
   "outputs": [],
   "source": [
    "image_size = (224, 224)\n",
    "batch_size = 32"
   ]
  },
  {
   "cell_type": "code",
   "execution_count": 4,
   "id": "7dd4a71e",
   "metadata": {},
   "outputs": [],
   "source": [
    "train_datagen = ImageDataGenerator(\n",
    "    rescale=1./255,\n",
    "    rotation_range=30,\n",
    "    width_shift_range=0.1,\n",
    "    height_shift_range=0.1,\n",
    "    shear_range=0.2,\n",
    "    zoom_range=0.2,\n",
    "    horizontal_flip=True,\n",
    "    fill_mode='nearest'\n",
    ")"
   ]
  },
  {
   "cell_type": "code",
   "execution_count": 5,
   "id": "e9c01f1b",
   "metadata": {},
   "outputs": [],
   "source": [
    "test_datagen = ImageDataGenerator(rescale=1./255)"
   ]
  },
  {
   "cell_type": "code",
   "execution_count": 6,
   "id": "74e46b42",
   "metadata": {},
   "outputs": [
    {
     "name": "stdout",
     "output_type": "stream",
     "text": [
      "Found 32398 images belonging to 3 classes.\n"
     ]
    }
   ],
   "source": [
    "train_generator = train_datagen.flow_from_directory(\n",
    "    train_dir,\n",
    "    target_size=image_size,\n",
    "    batch_size=batch_size,\n",
    "    class_mode='categorical'\n",
    ")"
   ]
  },
  {
   "cell_type": "code",
   "execution_count": 7,
   "id": "44773585",
   "metadata": {},
   "outputs": [
    {
     "name": "stdout",
     "output_type": "stream",
     "text": [
      "Found 10500 images belonging to 3 classes.\n"
     ]
    }
   ],
   "source": [
    "test_generator = test_datagen.flow_from_directory(\n",
    "    test_dir,\n",
    "    target_size=image_size,\n",
    "    batch_size=batch_size,\n",
    "    class_mode='categorical'\n",
    ")"
   ]
  },
  {
   "cell_type": "code",
   "execution_count": 8,
   "id": "adbe4d08",
   "metadata": {},
   "outputs": [],
   "source": [
    "X_train, y_train = next(train_generator)\n",
    "X_test, y_test = next(test_generator)"
   ]
  },
  {
   "cell_type": "code",
   "execution_count": 9,
   "id": "343c2fb4",
   "metadata": {},
   "outputs": [
    {
     "name": "stderr",
     "output_type": "stream",
     "text": [
      "C:\\Users\\LENOVO\\anaconda3\\Lib\\site-packages\\keras\\src\\layers\\convolutional\\base_conv.py:99: UserWarning: Do not pass an `input_shape`/`input_dim` argument to a layer. When using Sequential models, prefer using an `Input(shape)` object as the first layer in the model instead.\n",
      "  super().__init__(\n"
     ]
    }
   ],
   "source": [
    "model = Sequential([\n",
    "    Conv2D(32, (3, 3), activation='relu', input_shape=(224, 224, 3)),\n",
    "    MaxPooling2D((2, 2)),\n",
    "    Conv2D(64, (3, 3), activation='relu'),\n",
    "    MaxPooling2D((2, 2)),\n",
    "    Conv2D(128, (3, 3), activation='relu'),\n",
    "    MaxPooling2D((2, 2)),\n",
    "    Conv2D(128, (3, 3), activation='relu'),\n",
    "    MaxPooling2D((2, 2)),\n",
    "    Flatten(),\n",
    "    Dense(512, activation='relu'),\n",
    "    Dropout(0.5),\n",
    "    Dense(3, activation='softmax')\n",
    "])"
   ]
  },
  {
   "cell_type": "code",
   "execution_count": 10,
   "id": "cb8a62bb",
   "metadata": {},
   "outputs": [],
   "source": [
    "model.compile(optimizer='adam', loss='categorical_crossentropy', metrics=['accuracy'])"
   ]
  },
  {
   "cell_type": "code",
   "execution_count": 11,
   "id": "25cd8f71",
   "metadata": {},
   "outputs": [
    {
     "name": "stdout",
     "output_type": "stream",
     "text": [
      "Epoch 1/30\n"
     ]
    },
    {
     "name": "stderr",
     "output_type": "stream",
     "text": [
      "C:\\Users\\LENOVO\\anaconda3\\Lib\\site-packages\\keras\\src\\trainers\\data_adapters\\py_dataset_adapter.py:120: UserWarning: Your `PyDataset` class should call `super().__init__(**kwargs)` in its constructor. `**kwargs` can include `workers`, `use_multiprocessing`, `max_queue_size`. Do not pass these arguments to `fit()`, as they will be ignored.\n",
      "  self._warn_if_super_not_called()\n"
     ]
    },
    {
     "name": "stdout",
     "output_type": "stream",
     "text": [
      "\u001b[1m1012/1012\u001b[0m \u001b[32m━━━━━━━━━━━━━━━━━━━━\u001b[0m\u001b[37m\u001b[0m \u001b[1m3071s\u001b[0m 3s/step - accuracy: 0.8427 - loss: 0.4088 - val_accuracy: 0.9015 - val_loss: 0.2808\n",
      "Epoch 2/30\n",
      "\u001b[1m1012/1012\u001b[0m \u001b[32m━━━━━━━━━━━━━━━━━━━━\u001b[0m\u001b[37m\u001b[0m \u001b[1m2s\u001b[0m 211us/step - accuracy: 0.9375 - loss: 0.0726 - val_accuracy: 1.0000 - val_loss: 0.0833\n",
      "Epoch 3/30\n"
     ]
    },
    {
     "name": "stderr",
     "output_type": "stream",
     "text": [
      "C:\\Users\\LENOVO\\anaconda3\\Lib\\contextlib.py:155: UserWarning: Your input ran out of data; interrupting training. Make sure that your dataset or generator can generate at least `steps_per_epoch * epochs` batches. You may need to use the `.repeat()` function when building your dataset.\n",
      "  self.gen.throw(typ, value, traceback)\n"
     ]
    },
    {
     "name": "stdout",
     "output_type": "stream",
     "text": [
      "\u001b[1m1012/1012\u001b[0m \u001b[32m━━━━━━━━━━━━━━━━━━━━\u001b[0m\u001b[37m\u001b[0m \u001b[1m3004s\u001b[0m 3s/step - accuracy: 0.9262 - loss: 0.2193 - val_accuracy: 0.8647 - val_loss: 0.3627\n",
      "Epoch 4/30\n",
      "\u001b[1m1012/1012\u001b[0m \u001b[32m━━━━━━━━━━━━━━━━━━━━\u001b[0m\u001b[37m\u001b[0m \u001b[1m2s\u001b[0m 75us/step - accuracy: 0.8438 - loss: 0.1729 - val_accuracy: 1.0000 - val_loss: 0.0279\n",
      "Epoch 5/30\n",
      "\u001b[1m1012/1012\u001b[0m \u001b[32m━━━━━━━━━━━━━━━━━━━━\u001b[0m\u001b[37m\u001b[0m \u001b[1m2990s\u001b[0m 3s/step - accuracy: 0.9333 - loss: 0.1964 - val_accuracy: 0.9233 - val_loss: 0.2149\n",
      "Epoch 6/30\n",
      "\u001b[1m1012/1012\u001b[0m \u001b[32m━━━━━━━━━━━━━━━━━━━━\u001b[0m\u001b[37m\u001b[0m \u001b[1m2s\u001b[0m 90us/step - accuracy: 0.9688 - loss: 0.0463 - val_accuracy: 1.0000 - val_loss: 0.0100\n",
      "Epoch 7/30\n",
      "\u001b[1m1012/1012\u001b[0m \u001b[32m━━━━━━━━━━━━━━━━━━━━\u001b[0m\u001b[37m\u001b[0m \u001b[1m2982s\u001b[0m 3s/step - accuracy: 0.9394 - loss: 0.1849 - val_accuracy: 0.9303 - val_loss: 0.1939\n",
      "Epoch 8/30\n",
      "\u001b[1m1012/1012\u001b[0m \u001b[32m━━━━━━━━━━━━━━━━━━━━\u001b[0m\u001b[37m\u001b[0m \u001b[1m2s\u001b[0m 78us/step - accuracy: 0.9375 - loss: 0.1282 - val_accuracy: 1.0000 - val_loss: 0.0531\n",
      "Epoch 9/30\n",
      "\u001b[1m1012/1012\u001b[0m \u001b[32m━━━━━━━━━━━━━━━━━━━━\u001b[0m\u001b[37m\u001b[0m \u001b[1m2995s\u001b[0m 3s/step - accuracy: 0.9462 - loss: 0.1639 - val_accuracy: 0.9283 - val_loss: 0.2179\n",
      "Epoch 10/30\n",
      "\u001b[1m1012/1012\u001b[0m \u001b[32m━━━━━━━━━━━━━━━━━━━━\u001b[0m\u001b[37m\u001b[0m \u001b[1m2s\u001b[0m 88us/step - accuracy: 0.9375 - loss: 0.1750 - val_accuracy: 1.0000 - val_loss: 0.0034\n",
      "Epoch 11/30\n",
      "\u001b[1m1012/1012\u001b[0m \u001b[32m━━━━━━━━━━━━━━━━━━━━\u001b[0m\u001b[37m\u001b[0m \u001b[1m2986s\u001b[0m 3s/step - accuracy: 0.9518 - loss: 0.1471 - val_accuracy: 0.9522 - val_loss: 0.1465\n",
      "Epoch 12/30\n",
      "\u001b[1m1012/1012\u001b[0m \u001b[32m━━━━━━━━━━━━━━━━━━━━\u001b[0m\u001b[37m\u001b[0m \u001b[1m2s\u001b[0m 120us/step - accuracy: 1.0000 - loss: 0.0174 - val_accuracy: 0.7500 - val_loss: 0.1181\n",
      "Epoch 13/30\n",
      "\u001b[1m1012/1012\u001b[0m \u001b[32m━━━━━━━━━━━━━━━━━━━━\u001b[0m\u001b[37m\u001b[0m \u001b[1m2994s\u001b[0m 3s/step - accuracy: 0.9530 - loss: 0.1423 - val_accuracy: 0.9294 - val_loss: 0.2105\n",
      "Epoch 14/30\n",
      "\u001b[1m1012/1012\u001b[0m \u001b[32m━━━━━━━━━━━━━━━━━━━━\u001b[0m\u001b[37m\u001b[0m \u001b[1m2s\u001b[0m 103us/step - accuracy: 0.9062 - loss: 0.0914 - val_accuracy: 1.0000 - val_loss: 0.0060\n",
      "Epoch 15/30\n",
      "\u001b[1m1012/1012\u001b[0m \u001b[32m━━━━━━━━━━━━━━━━━━━━\u001b[0m\u001b[37m\u001b[0m \u001b[1m2990s\u001b[0m 3s/step - accuracy: 0.9552 - loss: 0.1382 - val_accuracy: 0.9380 - val_loss: 0.1702\n",
      "Epoch 16/30\n",
      "\u001b[1m1012/1012\u001b[0m \u001b[32m━━━━━━━━━━━━━━━━━━━━\u001b[0m\u001b[37m\u001b[0m \u001b[1m2s\u001b[0m 103us/step - accuracy: 0.9688 - loss: 0.0297 - val_accuracy: 1.0000 - val_loss: 0.0028\n",
      "Epoch 17/30\n",
      "\u001b[1m1012/1012\u001b[0m \u001b[32m━━━━━━━━━━━━━━━━━━━━\u001b[0m\u001b[37m\u001b[0m \u001b[1m3003s\u001b[0m 3s/step - accuracy: 0.9599 - loss: 0.1260 - val_accuracy: 0.9263 - val_loss: 0.2243\n",
      "Epoch 18/30\n",
      "\u001b[1m1012/1012\u001b[0m \u001b[32m━━━━━━━━━━━━━━━━━━━━\u001b[0m\u001b[37m\u001b[0m \u001b[1m2s\u001b[0m 91us/step - accuracy: 1.0000 - loss: 0.0141 - val_accuracy: 1.0000 - val_loss: 1.2219e-06\n",
      "Epoch 19/30\n",
      "\u001b[1m1012/1012\u001b[0m \u001b[32m━━━━━━━━━━━━━━━━━━━━\u001b[0m\u001b[37m\u001b[0m \u001b[1m3448s\u001b[0m 3s/step - accuracy: 0.9603 - loss: 0.1237 - val_accuracy: 0.9507 - val_loss: 0.1563\n",
      "Epoch 20/30\n",
      "\u001b[1m1012/1012\u001b[0m \u001b[32m━━━━━━━━━━━━━━━━━━━━\u001b[0m\u001b[37m\u001b[0m \u001b[1m2s\u001b[0m 70us/step - accuracy: 0.9688 - loss: 0.0600 - val_accuracy: 1.0000 - val_loss: 0.0411\n",
      "Epoch 21/30\n",
      "\u001b[1m1012/1012\u001b[0m \u001b[32m━━━━━━━━━━━━━━━━━━━━\u001b[0m\u001b[37m\u001b[0m \u001b[1m3872s\u001b[0m 4s/step - accuracy: 0.9619 - loss: 0.1204 - val_accuracy: 0.9599 - val_loss: 0.1222\n",
      "Epoch 22/30\n",
      "\u001b[1m1012/1012\u001b[0m \u001b[32m━━━━━━━━━━━━━━━━━━━━\u001b[0m\u001b[37m\u001b[0m \u001b[1m2s\u001b[0m 78us/step - accuracy: 1.0000 - loss: 0.0135 - val_accuracy: 1.0000 - val_loss: 0.0438\n",
      "Epoch 23/30\n",
      "\u001b[1m1012/1012\u001b[0m \u001b[32m━━━━━━━━━━━━━━━━━━━━\u001b[0m\u001b[37m\u001b[0m \u001b[1m7011s\u001b[0m 7s/step - accuracy: 0.9611 - loss: 0.1163 - val_accuracy: 0.9596 - val_loss: 0.1190\n",
      "Epoch 24/30\n",
      "\u001b[1m1012/1012\u001b[0m \u001b[32m━━━━━━━━━━━━━━━━━━━━\u001b[0m\u001b[37m\u001b[0m \u001b[1m3s\u001b[0m 124us/step - accuracy: 0.9375 - loss: 0.0690 - val_accuracy: 1.0000 - val_loss: 0.0086\n",
      "Epoch 25/30\n",
      "\u001b[1m1012/1012\u001b[0m \u001b[32m━━━━━━━━━━━━━━━━━━━━\u001b[0m\u001b[37m\u001b[0m \u001b[1m4052s\u001b[0m 4s/step - accuracy: 0.9634 - loss: 0.1121 - val_accuracy: 0.9476 - val_loss: 0.1489\n",
      "Epoch 26/30\n",
      "\u001b[1m1012/1012\u001b[0m \u001b[32m━━━━━━━━━━━━━━━━━━━━\u001b[0m\u001b[37m\u001b[0m \u001b[1m2s\u001b[0m 82us/step - accuracy: 0.9375 - loss: 0.0653 - val_accuracy: 1.0000 - val_loss: 4.1880e-05\n",
      "Epoch 27/30\n",
      "\u001b[1m1012/1012\u001b[0m \u001b[32m━━━━━━━━━━━━━━━━━━━━\u001b[0m\u001b[37m\u001b[0m \u001b[1m4054s\u001b[0m 4s/step - accuracy: 0.9654 - loss: 0.1097 - val_accuracy: 0.9582 - val_loss: 0.1268\n",
      "Epoch 28/30\n",
      "\u001b[1m1012/1012\u001b[0m \u001b[32m━━━━━━━━━━━━━━━━━━━━\u001b[0m\u001b[37m\u001b[0m \u001b[1m2s\u001b[0m 104us/step - accuracy: 0.9688 - loss: 0.0650 - val_accuracy: 1.0000 - val_loss: 5.3393e-04\n",
      "Epoch 29/30\n",
      "\u001b[1m1012/1012\u001b[0m \u001b[32m━━━━━━━━━━━━━━━━━━━━\u001b[0m\u001b[37m\u001b[0m \u001b[1m3952s\u001b[0m 4s/step - accuracy: 0.9646 - loss: 0.1120 - val_accuracy: 0.9404 - val_loss: 0.1885\n",
      "Epoch 30/30\n",
      "\u001b[1m1012/1012\u001b[0m \u001b[32m━━━━━━━━━━━━━━━━━━━━\u001b[0m\u001b[37m\u001b[0m \u001b[1m2s\u001b[0m 87us/step - accuracy: 0.9688 - loss: 0.0601 - val_accuracy: 1.0000 - val_loss: 6.7999e-04\n"
     ]
    }
   ],
   "source": [
    "history = model.fit(\n",
    "    train_generator,\n",
    "    steps_per_epoch=train_generator.samples // train_generator.batch_size,\n",
    "    epochs=30,\n",
    "    validation_data=test_generator,\n",
    "    validation_steps=test_generator.samples // test_generator.batch_size\n",
    ")"
   ]
  },
  {
   "cell_type": "code",
   "execution_count": 12,
   "id": "77fc5f34",
   "metadata": {},
   "outputs": [
    {
     "name": "stdout",
     "output_type": "stream",
     "text": [
      "\u001b[1m328/328\u001b[0m \u001b[32m━━━━━━━━━━━━━━━━━━━━\u001b[0m\u001b[37m\u001b[0m \u001b[1m278s\u001b[0m 847ms/step - accuracy: 0.9413 - loss: 0.1755\n",
      "Test accuracy: 0.941692054271698\n"
     ]
    }
   ],
   "source": [
    "test_loss, test_acc = model.evaluate(test_generator, steps=test_generator.samples // test_generator.batch_size)\n",
    "print('Test accuracy:', test_acc)"
   ]
  },
  {
   "cell_type": "code",
   "execution_count": 13,
   "id": "c693900a",
   "metadata": {},
   "outputs": [],
   "source": [
    "from tensorflow.keras.models import save_model\n",
    "from tensorflow.keras.models import load_model"
   ]
  },
  {
   "cell_type": "code",
   "execution_count": 14,
   "id": "58e61ca6",
   "metadata": {},
   "outputs": [
    {
     "name": "stderr",
     "output_type": "stream",
     "text": [
      "WARNING:absl:You are saving your model as an HDF5 file via `model.save()` or `keras.saving.save_model(model)`. This file format is considered legacy. We recommend using instead the native Keras format, e.g. `model.save('my_model.keras')` or `keras.saving.save_model(model, 'my_model.keras')`. \n"
     ]
    }
   ],
   "source": [
    "model.save('fire_detection_model.h5')"
   ]
  },
  {
   "cell_type": "code",
   "execution_count": 15,
   "id": "6cec4c7c",
   "metadata": {},
   "outputs": [],
   "source": [
    "model.save('fire_detection_model.keras')"
   ]
  },
  {
   "cell_type": "code",
   "execution_count": null,
   "id": "877f640b",
   "metadata": {},
   "outputs": [],
   "source": []
  }
 ],
 "metadata": {
  "kernelspec": {
   "display_name": "Python 3 (ipykernel)",
   "language": "python",
   "name": "python3"
  },
  "language_info": {
   "codemirror_mode": {
    "name": "ipython",
    "version": 3
   },
   "file_extension": ".py",
   "mimetype": "text/x-python",
   "name": "python",
   "nbconvert_exporter": "python",
   "pygments_lexer": "ipython3",
   "version": "3.11.5"
  }
 },
 "nbformat": 4,
 "nbformat_minor": 5
}
